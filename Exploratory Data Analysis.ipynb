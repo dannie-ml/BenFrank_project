{
 "cells": [
  {
   "cell_type": "markdown",
   "metadata": {},
   "source": [
    "# Welcome\n",
    "\n",
    "### The goal of this project is to get insights of an start-up that sells cool glasses in Mexico; we will dive into their sales and try to find out in which day of the week and weekend sells the most per store. To help with the goal, an exploratory data analysis will be done to give a better understanding of how the sales behave. \n",
    "\n",
    "### We will combine this exploratory data analysis and then we will combine the tools of Tableau and get some data visualizations with it.\n",
    "\n",
    "## <h1><center>Let's start!</center></h1>"
   ]
  },
  {
   "cell_type": "code",
   "execution_count": 1,
   "metadata": {},
   "outputs": [],
   "source": [
    "# Importing packages\n",
    "import pandas as pd\n",
    "import numpy as np\n",
    "from datetime import datetime\n",
    "\n",
    "# We ignore warnings\n",
    "import warnings\n",
    "warnings.filterwarnings('ignore')"
   ]
  },
  {
   "cell_type": "code",
   "execution_count": 2,
   "metadata": {},
   "outputs": [],
   "source": [
    "# Loading the dataset\n",
    "dataset = pd.read_csv('Examen Data Analyst - Sheet1.csv')"
   ]
  },
  {
   "cell_type": "code",
   "execution_count": 3,
   "metadata": {},
   "outputs": [
    {
     "data": {
      "text/html": [
       "<div>\n",
       "<style scoped>\n",
       "    .dataframe tbody tr th:only-of-type {\n",
       "        vertical-align: middle;\n",
       "    }\n",
       "\n",
       "    .dataframe tbody tr th {\n",
       "        vertical-align: top;\n",
       "    }\n",
       "\n",
       "    .dataframe thead th {\n",
       "        text-align: right;\n",
       "    }\n",
       "</style>\n",
       "<table border=\"1\" class=\"dataframe\">\n",
       "  <thead>\n",
       "    <tr style=\"text-align: right;\">\n",
       "      <th></th>\n",
       "      <th>Name</th>\n",
       "      <th>Financial Status</th>\n",
       "      <th>Fulfillment Status</th>\n",
       "      <th>Taxes</th>\n",
       "      <th>Total</th>\n",
       "      <th>Discount Amount</th>\n",
       "      <th>Created_at (UTC)</th>\n",
       "      <th>Lineitem quantity</th>\n",
       "      <th>Lineitem price</th>\n",
       "      <th>Cancelled at</th>\n",
       "      <th>Payment Method</th>\n",
       "      <th>Refunded Amount</th>\n",
       "      <th>Location</th>\n",
       "      <th>Source</th>\n",
       "      <th>Lineitem name</th>\n",
       "    </tr>\n",
       "  </thead>\n",
       "  <tbody>\n",
       "    <tr>\n",
       "      <th>0</th>\n",
       "      <td>MX29-1673</td>\n",
       "      <td>partially_refunded</td>\n",
       "      <td>fulfilled</td>\n",
       "      <td>468.97</td>\n",
       "      <td>3400.0</td>\n",
       "      <td>0.0</td>\n",
       "      <td>02/01/2018 18:24:00</td>\n",
       "      <td>1</td>\n",
       "      <td>1799.99</td>\n",
       "      <td>NaN</td>\n",
       "      <td>External Credit</td>\n",
       "      <td>150.0</td>\n",
       "      <td>Tienda A</td>\n",
       "      <td>pos</td>\n",
       "      <td>MARTIN</td>\n",
       "    </tr>\n",
       "    <tr>\n",
       "      <th>1</th>\n",
       "      <td>MX29-1673</td>\n",
       "      <td>NaN</td>\n",
       "      <td>NaN</td>\n",
       "      <td>NaN</td>\n",
       "      <td>NaN</td>\n",
       "      <td>NaN</td>\n",
       "      <td>02/01/2018 18:24:00</td>\n",
       "      <td>1</td>\n",
       "      <td>1600.01</td>\n",
       "      <td>NaN</td>\n",
       "      <td>NaN</td>\n",
       "      <td>NaN</td>\n",
       "      <td>NaN</td>\n",
       "      <td>NaN</td>\n",
       "      <td>Micas Oftalmicas</td>\n",
       "    </tr>\n",
       "    <tr>\n",
       "      <th>2</th>\n",
       "      <td>MX29-1674</td>\n",
       "      <td>paid</td>\n",
       "      <td>fulfilled</td>\n",
       "      <td>344.83</td>\n",
       "      <td>2500.0</td>\n",
       "      <td>0.0</td>\n",
       "      <td>02/01/2018 20:54:00</td>\n",
       "      <td>1</td>\n",
       "      <td>1799.99</td>\n",
       "      <td>NaN</td>\n",
       "      <td>External Credit</td>\n",
       "      <td>0.0</td>\n",
       "      <td>Tienda A</td>\n",
       "      <td>pos</td>\n",
       "      <td>ALDOUS</td>\n",
       "    </tr>\n",
       "    <tr>\n",
       "      <th>3</th>\n",
       "      <td>MX29-1674</td>\n",
       "      <td>NaN</td>\n",
       "      <td>NaN</td>\n",
       "      <td>NaN</td>\n",
       "      <td>NaN</td>\n",
       "      <td>NaN</td>\n",
       "      <td>02/01/2018 20:54:00</td>\n",
       "      <td>1</td>\n",
       "      <td>700.00</td>\n",
       "      <td>NaN</td>\n",
       "      <td>NaN</td>\n",
       "      <td>NaN</td>\n",
       "      <td>NaN</td>\n",
       "      <td>NaN</td>\n",
       "      <td>Clipon</td>\n",
       "    </tr>\n",
       "    <tr>\n",
       "      <th>4</th>\n",
       "      <td>MX29-1674</td>\n",
       "      <td>NaN</td>\n",
       "      <td>NaN</td>\n",
       "      <td>NaN</td>\n",
       "      <td>NaN</td>\n",
       "      <td>NaN</td>\n",
       "      <td>02/01/2018 20:54:00</td>\n",
       "      <td>1</td>\n",
       "      <td>0.01</td>\n",
       "      <td>NaN</td>\n",
       "      <td>NaN</td>\n",
       "      <td>NaN</td>\n",
       "      <td>NaN</td>\n",
       "      <td>NaN</td>\n",
       "      <td>Micas Oftalmicas</td>\n",
       "    </tr>\n",
       "  </tbody>\n",
       "</table>\n",
       "</div>"
      ],
      "text/plain": [
       "        Name    Financial Status Fulfillment Status   Taxes   Total  \\\n",
       "0  MX29-1673  partially_refunded          fulfilled  468.97  3400.0   \n",
       "1  MX29-1673                 NaN                NaN     NaN     NaN   \n",
       "2  MX29-1674                paid          fulfilled  344.83  2500.0   \n",
       "3  MX29-1674                 NaN                NaN     NaN     NaN   \n",
       "4  MX29-1674                 NaN                NaN     NaN     NaN   \n",
       "\n",
       "   Discount Amount     Created_at (UTC)  Lineitem quantity  Lineitem price  \\\n",
       "0              0.0  02/01/2018 18:24:00                  1         1799.99   \n",
       "1              NaN  02/01/2018 18:24:00                  1         1600.01   \n",
       "2              0.0  02/01/2018 20:54:00                  1         1799.99   \n",
       "3              NaN  02/01/2018 20:54:00                  1          700.00   \n",
       "4              NaN  02/01/2018 20:54:00                  1            0.01   \n",
       "\n",
       "  Cancelled at   Payment Method  Refunded Amount  Location Source  \\\n",
       "0          NaN  External Credit            150.0  Tienda A    pos   \n",
       "1          NaN              NaN              NaN       NaN    NaN   \n",
       "2          NaN  External Credit              0.0  Tienda A    pos   \n",
       "3          NaN              NaN              NaN       NaN    NaN   \n",
       "4          NaN              NaN              NaN       NaN    NaN   \n",
       "\n",
       "      Lineitem name  \n",
       "0            MARTIN  \n",
       "1  Micas Oftalmicas  \n",
       "2            ALDOUS  \n",
       "3            Clipon  \n",
       "4  Micas Oftalmicas  "
      ]
     },
     "execution_count": 3,
     "metadata": {},
     "output_type": "execute_result"
    }
   ],
   "source": [
    "# Let's check the head of the data\n",
    "dataset.head()"
   ]
  },
  {
   "cell_type": "markdown",
   "metadata": {},
   "source": [
    "# Exploratory Data Analysis. \n",
    "\n",
    "### In order to clean and transform the data we want to check the fundamentals operations in our Exploratory Data Analysis (EDA), i.e, we want to know the shape, data types, number/percentage of missing values and the statistical values of the Data Frame.\n"
   ]
  },
  {
   "cell_type": "code",
   "execution_count": 4,
   "metadata": {},
   "outputs": [
    {
     "name": "stdout",
     "output_type": "stream",
     "text": [
      "(18783, 15)\n",
      "Index(['Name', 'Financial Status', 'Fulfillment Status', 'Taxes', 'Total',\n",
      "       'Discount Amount', 'Created_at (UTC)', 'Lineitem quantity',\n",
      "       'Lineitem price', 'Cancelled at', 'Payment Method', 'Refunded Amount',\n",
      "       'Location', 'Source', 'Lineitem name'],\n",
      "      dtype='object')\n"
     ]
    }
   ],
   "source": [
    "# Checking how many rows and columns we have\n",
    "size = dataset.shape\n",
    "print(size)\n",
    "\n",
    "# Name of columns\n",
    "columns = dataset.columns\n",
    "print(columns)"
   ]
  },
  {
   "cell_type": "code",
   "execution_count": 5,
   "metadata": {},
   "outputs": [
    {
     "data": {
      "text/plain": [
       "Name                   object\n",
       "Financial Status       object\n",
       "Fulfillment Status     object\n",
       "Taxes                 float64\n",
       "Total                 float64\n",
       "Discount Amount       float64\n",
       "Created_at (UTC)       object\n",
       "Lineitem quantity       int64\n",
       "Lineitem price        float64\n",
       "Cancelled at           object\n",
       "Payment Method         object\n",
       "Refunded Amount       float64\n",
       "Location               object\n",
       "Source                 object\n",
       "Lineitem name          object\n",
       "dtype: object"
      ]
     },
     "execution_count": 5,
     "metadata": {},
     "output_type": "execute_result"
    }
   ],
   "source": [
    "# Checking the data types of our data\n",
    "dataset.dtypes"
   ]
  },
  {
   "cell_type": "code",
   "execution_count": 6,
   "metadata": {},
   "outputs": [
    {
     "name": "stdout",
     "output_type": "stream",
     "text": [
      "Name                      0\n",
      "Financial Status       9978\n",
      "Fulfillment Status     9978\n",
      "Taxes                  9978\n",
      "Total                  9978\n",
      "Discount Amount        9978\n",
      "Created_at (UTC)          0\n",
      "Lineitem quantity         0\n",
      "Lineitem price            0\n",
      "Cancelled at          18511\n",
      "Payment Method        10181\n",
      "Refunded Amount        9978\n",
      "Location               9979\n",
      "Source                 9978\n",
      "Lineitem name             0\n",
      "dtype: int64\n"
     ]
    }
   ],
   "source": [
    "# Checking data for null values \n",
    "nulls = dataset.isnull().sum()\n",
    "print(nulls)"
   ]
  },
  {
   "cell_type": "code",
   "execution_count": 7,
   "metadata": {},
   "outputs": [
    {
     "name": "stdout",
     "output_type": "stream",
     "text": [
      "Name   0.0\n",
      "Financial Status   53.12250439226961\n",
      "Fulfillment Status   53.12250439226961\n",
      "Taxes   53.12250439226961\n",
      "Total   53.12250439226961\n",
      "Discount Amount   53.12250439226961\n",
      "Created_at (UTC)   0.0\n",
      "Lineitem quantity   0.0\n",
      "Lineitem price   0.0\n",
      "Cancelled at   98.55188202097641\n",
      "Payment Method   54.20326891337912\n",
      "Refunded Amount   53.12250439226961\n",
      "Location   53.12782835542777\n",
      "Source   53.12250439226961\n",
      "Lineitem name   0.0\n"
     ]
    }
   ],
   "source": [
    "# Checking the percentage of nulls values \n",
    "\n",
    "for num in range(len(nulls)):\n",
    "    print(columns[num], ' ', (nulls[num]/size[0]*100))"
   ]
  },
  {
   "cell_type": "code",
   "execution_count": 8,
   "metadata": {},
   "outputs": [
    {
     "data": {
      "text/html": [
       "<div>\n",
       "<style scoped>\n",
       "    .dataframe tbody tr th:only-of-type {\n",
       "        vertical-align: middle;\n",
       "    }\n",
       "\n",
       "    .dataframe tbody tr th {\n",
       "        vertical-align: top;\n",
       "    }\n",
       "\n",
       "    .dataframe thead th {\n",
       "        text-align: right;\n",
       "    }\n",
       "</style>\n",
       "<table border=\"1\" class=\"dataframe\">\n",
       "  <thead>\n",
       "    <tr style=\"text-align: right;\">\n",
       "      <th></th>\n",
       "      <th>Taxes</th>\n",
       "      <th>Total</th>\n",
       "      <th>Discount Amount</th>\n",
       "      <th>Lineitem quantity</th>\n",
       "      <th>Lineitem price</th>\n",
       "      <th>Refunded Amount</th>\n",
       "    </tr>\n",
       "  </thead>\n",
       "  <tbody>\n",
       "    <tr>\n",
       "      <th>count</th>\n",
       "      <td>8805.000000</td>\n",
       "      <td>8805.000000</td>\n",
       "      <td>8805.000000</td>\n",
       "      <td>18783.000000</td>\n",
       "      <td>18783.000000</td>\n",
       "      <td>8805.000000</td>\n",
       "    </tr>\n",
       "    <tr>\n",
       "      <th>mean</th>\n",
       "      <td>265.740282</td>\n",
       "      <td>1937.009853</td>\n",
       "      <td>77.270315</td>\n",
       "      <td>1.022893</td>\n",
       "      <td>940.591355</td>\n",
       "      <td>32.546848</td>\n",
       "    </tr>\n",
       "    <tr>\n",
       "      <th>std</th>\n",
       "      <td>118.091676</td>\n",
       "      <td>859.834905</td>\n",
       "      <td>368.731781</td>\n",
       "      <td>0.168008</td>\n",
       "      <td>872.789180</td>\n",
       "      <td>194.615647</td>\n",
       "    </tr>\n",
       "    <tr>\n",
       "      <th>min</th>\n",
       "      <td>0.000000</td>\n",
       "      <td>0.000000</td>\n",
       "      <td>0.000000</td>\n",
       "      <td>1.000000</td>\n",
       "      <td>0.000000</td>\n",
       "      <td>0.000000</td>\n",
       "    </tr>\n",
       "    <tr>\n",
       "      <th>25%</th>\n",
       "      <td>248.280000</td>\n",
       "      <td>1800.000000</td>\n",
       "      <td>0.000000</td>\n",
       "      <td>1.000000</td>\n",
       "      <td>0.010000</td>\n",
       "      <td>0.000000</td>\n",
       "    </tr>\n",
       "    <tr>\n",
       "      <th>50%</th>\n",
       "      <td>248.280000</td>\n",
       "      <td>1800.000000</td>\n",
       "      <td>0.000000</td>\n",
       "      <td>1.000000</td>\n",
       "      <td>1100.010000</td>\n",
       "      <td>0.000000</td>\n",
       "    </tr>\n",
       "    <tr>\n",
       "      <th>75%</th>\n",
       "      <td>248.280000</td>\n",
       "      <td>1800.000000</td>\n",
       "      <td>0.000000</td>\n",
       "      <td>1.000000</td>\n",
       "      <td>1799.990000</td>\n",
       "      <td>0.000000</td>\n",
       "    </tr>\n",
       "    <tr>\n",
       "      <th>max</th>\n",
       "      <td>2006.900000</td>\n",
       "      <td>14550.000000</td>\n",
       "      <td>6450.020000</td>\n",
       "      <td>7.000000</td>\n",
       "      <td>3400.000000</td>\n",
       "      <td>4850.000000</td>\n",
       "    </tr>\n",
       "  </tbody>\n",
       "</table>\n",
       "</div>"
      ],
      "text/plain": [
       "             Taxes         Total  Discount Amount  Lineitem quantity  \\\n",
       "count  8805.000000   8805.000000      8805.000000       18783.000000   \n",
       "mean    265.740282   1937.009853        77.270315           1.022893   \n",
       "std     118.091676    859.834905       368.731781           0.168008   \n",
       "min       0.000000      0.000000         0.000000           1.000000   \n",
       "25%     248.280000   1800.000000         0.000000           1.000000   \n",
       "50%     248.280000   1800.000000         0.000000           1.000000   \n",
       "75%     248.280000   1800.000000         0.000000           1.000000   \n",
       "max    2006.900000  14550.000000      6450.020000           7.000000   \n",
       "\n",
       "       Lineitem price  Refunded Amount  \n",
       "count    18783.000000      8805.000000  \n",
       "mean       940.591355        32.546848  \n",
       "std        872.789180       194.615647  \n",
       "min          0.000000         0.000000  \n",
       "25%          0.010000         0.000000  \n",
       "50%       1100.010000         0.000000  \n",
       "75%       1799.990000         0.000000  \n",
       "max       3400.000000      4850.000000  "
      ]
     },
     "execution_count": 8,
     "metadata": {},
     "output_type": "execute_result"
    }
   ],
   "source": [
    "# Cheking the statistics of the dataframe\n",
    "dataset.describe()"
   ]
  },
  {
   "cell_type": "markdown",
   "metadata": {},
   "source": [
    "# Things to note in order to clean the data.\n",
    "\n",
    "- Percentage of null valus are the same for Source, Financial Status, Fulfillment, Taxes, Total, Discount Amount and Refounded so we're gonna clean that.\n",
    "\n",
    "- Observe that, the percentage of Location is just (.0053) greater than the percentage of Source. \n",
    "\n",
    "- Despite the high percentage of the column \"canceled at\", we can say that less than 2% of all purchases are canceled. This Column will not be removed, instead of NaN, it would be 'Not canceled'\n",
    "\n",
    "- We are going to group 'Cash + External Credit' and 'External Credit + Cash', obtaining only 'Cash + External Credit' as for null values, it will be replaced with 'Not done'."
   ]
  },
  {
   "cell_type": "markdown",
   "metadata": {},
   "source": [
    "# Manipulation and Cleaning Data"
   ]
  },
  {
   "cell_type": "markdown",
   "metadata": {},
   "source": [
    "## A copy of the sheet will be made, so that it can be manipulated without modifying the original data."
   ]
  },
  {
   "cell_type": "code",
   "execution_count": 9,
   "metadata": {},
   "outputs": [],
   "source": [
    "sheet_copy = dataset.copy()"
   ]
  },
  {
   "cell_type": "markdown",
   "metadata": {},
   "source": [
    "## Cleaning and replacing null values"
   ]
  },
  {
   "cell_type": "code",
   "execution_count": 10,
   "metadata": {},
   "outputs": [],
   "source": [
    "sheet_copy.fillna({'Cancelled at':'Not cancelled', 'Payment Method': 'Not Done'}, inplace = True)\n",
    "sheet_copy.replace('External Credit + Cash', 'Cash + External Credit', inplace = True)"
   ]
  },
  {
   "cell_type": "code",
   "execution_count": 11,
   "metadata": {},
   "outputs": [
    {
     "name": "stdout",
     "output_type": "stream",
     "text": [
      "Name                     0\n",
      "Financial Status      9978\n",
      "Fulfillment Status    9978\n",
      "Taxes                 9978\n",
      "Total                 9978\n",
      "Discount Amount       9978\n",
      "Created_at (UTC)         0\n",
      "Lineitem quantity        0\n",
      "Lineitem price           0\n",
      "Cancelled at             0\n",
      "Payment Method           0\n",
      "Refunded Amount       9978\n",
      "Location              9979\n",
      "Source                9978\n",
      "Lineitem name            0\n",
      "dtype: int64\n"
     ]
    }
   ],
   "source": [
    "# Now let's check how the missing values has change. \n",
    "nulls = sheet_copy.isna().sum()\n",
    "print(nulls)"
   ]
  },
  {
   "cell_type": "markdown",
   "metadata": {},
   "source": [
    "# Dropping missing values and making the necessary functions to verify the changes and checking if there are any duplicates"
   ]
  },
  {
   "cell_type": "code",
   "execution_count": 12,
   "metadata": {},
   "outputs": [
    {
     "name": "stdout",
     "output_type": "stream",
     "text": [
      "\n",
      "Shape of data\n"
     ]
    },
    {
     "data": {
      "text/plain": [
       "(8804, 15)"
      ]
     },
     "execution_count": 12,
     "metadata": {},
     "output_type": "execute_result"
    }
   ],
   "source": [
    "\n",
    "sheet_copy.dropna(inplace = True)\n",
    "print('')\n",
    "print('Shape of data')\n",
    "sheet_copy.shape\n"
   ]
  },
  {
   "cell_type": "code",
   "execution_count": 13,
   "metadata": {},
   "outputs": [
    {
     "name": "stdout",
     "output_type": "stream",
     "text": [
      "\n",
      "Missing Values\n"
     ]
    },
    {
     "data": {
      "text/plain": [
       "Name                  0\n",
       "Financial Status      0\n",
       "Fulfillment Status    0\n",
       "Taxes                 0\n",
       "Total                 0\n",
       "Discount Amount       0\n",
       "Created_at (UTC)      0\n",
       "Lineitem quantity     0\n",
       "Lineitem price        0\n",
       "Cancelled at          0\n",
       "Payment Method        0\n",
       "Refunded Amount       0\n",
       "Location              0\n",
       "Source                0\n",
       "Lineitem name         0\n",
       "dtype: int64"
      ]
     },
     "execution_count": 13,
     "metadata": {},
     "output_type": "execute_result"
    }
   ],
   "source": [
    "print('')\n",
    "print('Missing Values')\n",
    "sheet_copy.isna().sum()\n"
   ]
  },
  {
   "cell_type": "code",
   "execution_count": 14,
   "metadata": {},
   "outputs": [
    {
     "name": "stdout",
     "output_type": "stream",
     "text": [
      "\n",
      "Changes in \"Cancelled at\"\n"
     ]
    },
    {
     "data": {
      "text/plain": [
       "array(['Not cancelled', '26/3/2018', '5/1/2018', '13/1/2018', '21/1/2018',\n",
       "       '14/2/2018', '26/1/2018', '27/1/2018', '30/1/2018', '8/2/2018',\n",
       "       '15/2/2018', '28/2/2018', '24/2/2018', '1/3/2018', '3/3/2018',\n",
       "       '5/3/2018', '22/3/2018', '14/4/2018', '20/1/2018', '13/2/2018',\n",
       "       '7/1/2018', '8/1/2018', '11/1/2018', '12/1/2018', '22/5/2018',\n",
       "       '14/1/2018', '17/1/2018', '19/1/2018', '23/1/2018', '12/2/2018',\n",
       "       '6/2/2018', '7/2/2018', '17/2/2018', '20/2/2018', '4/8/2018',\n",
       "       '13/3/2018', '26/2/2018', '16/3/2018', '21/3/2018', '25/3/2018',\n",
       "       '15/1/2018', '25/5/2018', '28/1/2018', '3/2/2018', '9/2/2018',\n",
       "       '10/2/2018', '16/2/2018', '25/2/2018', '4/3/2018', '12/3/2018',\n",
       "       '28/3/2018', '4/1/2018', '9/1/2018', '31/1/2018', '12/5/2018',\n",
       "       '14/3/2018', '24/3/2018', '31/3/2018', '6/4/2018', '10/1/2018',\n",
       "       '22/2/2018', '11/3/2018', '16/1/2018', '1/2/2018', '19/2/2018',\n",
       "       '1/8/2018', '18/2/2018', '23/2/2018', '7/3/2018', '10/3/2018',\n",
       "       '2/4/2018', '24/1/2018', '5/2/2018', '11/2/2018', '6/3/2018',\n",
       "       '8/3/2018', '27/2/2018', '20/3/2018', '19/3/2018', '23/4/2018',\n",
       "       '11/4/2018', '3/1/2018', '2/2/2018', '27/3/2018', '15/3/2018',\n",
       "       '25/1/2018', '22/1/2018', '19/6/2018', '18/3/2018', '4/4/2018',\n",
       "       '14/6/2018', '1/4/2018', '29/1/2018', '4/2/2018', '17/3/2018',\n",
       "       '23/3/2018', '29/3/2018', '28/8/2018', '30/3/2018', '17/10/2018',\n",
       "       '3/4/2018'], dtype=object)"
      ]
     },
     "execution_count": 14,
     "metadata": {},
     "output_type": "execute_result"
    }
   ],
   "source": [
    "print('')\n",
    "print('Changes in \"Cancelled at\"')\n",
    "sheet_copy['Cancelled at'].unique()"
   ]
  },
  {
   "cell_type": "code",
   "execution_count": 15,
   "metadata": {},
   "outputs": [
    {
     "name": "stdout",
     "output_type": "stream",
     "text": [
      "\n",
      "Changes in \"Payment Method\"\n"
     ]
    },
    {
     "data": {
      "text/plain": [
       "array(['External Credit', 'Cash', 'Cash + External Credit', 'Not Done',\n",
       "       'Gift Card', 'manual', 'Gift Card + External Credit'], dtype=object)"
      ]
     },
     "execution_count": 15,
     "metadata": {},
     "output_type": "execute_result"
    }
   ],
   "source": [
    "print('')\n",
    "print('Changes in \"Payment Method\"')\n",
    "sheet_copy['Payment Method'].unique()"
   ]
  },
  {
   "cell_type": "code",
   "execution_count": 16,
   "metadata": {},
   "outputs": [
    {
     "name": "stdout",
     "output_type": "stream",
     "text": [
      "\n",
      "Change in Location\n"
     ]
    },
    {
     "data": {
      "text/plain": [
       "array(['Tienda A', 'Tienda C', 'Tienda B'], dtype=object)"
      ]
     },
     "execution_count": 16,
     "metadata": {},
     "output_type": "execute_result"
    }
   ],
   "source": [
    "print('')\n",
    "print('Change in Location')\n",
    "sheet_copy['Location'].unique()"
   ]
  },
  {
   "cell_type": "code",
   "execution_count": 17,
   "metadata": {},
   "outputs": [
    {
     "name": "stdout",
     "output_type": "stream",
     "text": [
      "\n",
      "Amount of duplicates in the dataset\n"
     ]
    },
    {
     "data": {
      "text/plain": [
       "0"
      ]
     },
     "execution_count": 17,
     "metadata": {},
     "output_type": "execute_result"
    }
   ],
   "source": [
    "print('')\n",
    "print('Amount of duplicates in the dataset')\n",
    "sheet_copy.duplicated().sum()"
   ]
  },
  {
   "cell_type": "code",
   "execution_count": 18,
   "metadata": {},
   "outputs": [],
   "source": [
    "# Finally, let's save the file\n",
    "sheet_copy.to_csv('Ben&Frank_clean.csv', index = False)"
   ]
  },
  {
   "cell_type": "markdown",
   "metadata": {},
   "source": [
    "# Data Transformation"
   ]
  },
  {
   "cell_type": "code",
   "execution_count": 19,
   "metadata": {},
   "outputs": [],
   "source": [
    "def days(date):\n",
    "    \"\"\" function that from the date, gets a day number \"\"\"\n",
    "    date_time = datetime.strptime(date, '%d/%m/%Y %H:%M:%S')\n",
    "    return datetime.weekday(date_time)"
   ]
  },
  {
   "cell_type": "code",
   "execution_count": 20,
   "metadata": {},
   "outputs": [],
   "source": [
    "def hour(date):\n",
    "    \"\"\"Function that from the date, gets only the hour of the day.\"\"\"\n",
    "    hour = date.split(':')\n",
    "    return hour[0][-2:]"
   ]
  },
  {
   "cell_type": "code",
   "execution_count": 21,
   "metadata": {},
   "outputs": [],
   "source": [
    "def month(date):\n",
    "    hour = date.split('/')\n",
    "    return hour[1]"
   ]
  },
  {
   "cell_type": "markdown",
   "metadata": {},
   "source": [
    "## Let's create the dictionaries in order to apply the functions already defined above and obtain a final dataset "
   ]
  },
  {
   "cell_type": "code",
   "execution_count": 22,
   "metadata": {},
   "outputs": [],
   "source": [
    "days_map = {\n",
    "    0:'Lunes',\n",
    "    1:'Martes',\n",
    "    2:'Miércoles',\n",
    "    3:'Jueves',\n",
    "    4:'Viernes',\n",
    "    5:'Sábado',\n",
    "    6:'Domingo'\n",
    "}"
   ]
  },
  {
   "cell_type": "code",
   "execution_count": 23,
   "metadata": {},
   "outputs": [],
   "source": [
    "# The structure of the days according the Store is\n",
    "days_type = {\n",
    "    'Lunes':'Entre Semana',\n",
    "    'Martes': 'Entre Semana',\n",
    "    'Miércoles': 'Entre Semana',\n",
    "    'Jueves': 'Entre Semana',\n",
    "    'Viernes': 'Fin de Semana',\n",
    "    'Sábado':'Fin de Semana',\n",
    "    'Domingo': 'Fin de Semana',\n",
    "}"
   ]
  },
  {
   "cell_type": "code",
   "execution_count": 24,
   "metadata": {},
   "outputs": [],
   "source": [
    "months = {\n",
    "    '01':'Enero',\n",
    "    '02':'Febrero',\n",
    "    '03':'Marzo',\n",
    "    '04':'Abril',\n",
    "    '05':'Mayo',\n",
    "    '06':'Junio',\n",
    "    '07':'Julio',\n",
    "    '08':'Agosto',\n",
    "    '09':'Septiembre',\n",
    "    '10':'Octubre',\n",
    "    '11':'Noviembre',\n",
    "    '12':'Diciembre'\n",
    "}"
   ]
  },
  {
   "cell_type": "code",
   "execution_count": 25,
   "metadata": {},
   "outputs": [],
   "source": [
    "# We get the day the purchase was made\n",
    "sheet_copy['Day'] = sheet_copy['Created_at (UTC)'].apply(days).map(days_map)\n",
    "# We classify whether it is midweek or weekend\n",
    "sheet_copy['Day_Type'] = sheet_copy['Day'].map(days_type)\n",
    "# We obtain the hours of the stores, WITHOUT MINUTES.\n",
    "sheet_copy['Hour'] = sheet_copy['Created_at (UTC)'].apply(hour).astype(int)\n",
    "# We do the segmentation for months\n",
    "sheet_copy['Month'] = sheet_copy['Created_at (UTC)'].apply(month).map(months)"
   ]
  },
  {
   "cell_type": "code",
   "execution_count": 26,
   "metadata": {},
   "outputs": [],
   "source": [
    "# We drop the hours that are not in the normal schedule of the store\n",
    "sheet_copy['Correct_Schedule'] = sheet_copy['Hour'].isin([11,12,13,14,15,16,17,18,19])\n",
    "\n",
    "# We are going to create the final dataset from where we will get the graphs\n",
    "dataset_final = sheet_copy.drop(sheet_copy[sheet_copy['Correct_Schedule'] == False].index)"
   ]
  },
  {
   "cell_type": "code",
   "execution_count": 27,
   "metadata": {},
   "outputs": [],
   "source": [
    "# Saving the dataset into a CSV\n",
    "dataset_final.to_csv('Ben&Frank_tranform.csv', index = False)"
   ]
  },
  {
   "cell_type": "code",
   "execution_count": 28,
   "metadata": {},
   "outputs": [
    {
     "data": {
      "text/html": [
       "<div>\n",
       "<style scoped>\n",
       "    .dataframe tbody tr th:only-of-type {\n",
       "        vertical-align: middle;\n",
       "    }\n",
       "\n",
       "    .dataframe tbody tr th {\n",
       "        vertical-align: top;\n",
       "    }\n",
       "\n",
       "    .dataframe thead th {\n",
       "        text-align: right;\n",
       "    }\n",
       "</style>\n",
       "<table border=\"1\" class=\"dataframe\">\n",
       "  <thead>\n",
       "    <tr style=\"text-align: right;\">\n",
       "      <th></th>\n",
       "      <th>Name</th>\n",
       "      <th>Financial Status</th>\n",
       "      <th>Fulfillment Status</th>\n",
       "      <th>Taxes</th>\n",
       "      <th>Total</th>\n",
       "      <th>Discount Amount</th>\n",
       "      <th>Created_at (UTC)</th>\n",
       "      <th>Lineitem quantity</th>\n",
       "      <th>Lineitem price</th>\n",
       "      <th>Cancelled at</th>\n",
       "      <th>Payment Method</th>\n",
       "      <th>Refunded Amount</th>\n",
       "      <th>Location</th>\n",
       "      <th>Source</th>\n",
       "      <th>Lineitem name</th>\n",
       "      <th>Day</th>\n",
       "      <th>Day_Type</th>\n",
       "      <th>Hour</th>\n",
       "      <th>Month</th>\n",
       "      <th>Correct_Schedule</th>\n",
       "    </tr>\n",
       "  </thead>\n",
       "  <tbody>\n",
       "    <tr>\n",
       "      <th>0</th>\n",
       "      <td>MX29-1673</td>\n",
       "      <td>partially_refunded</td>\n",
       "      <td>fulfilled</td>\n",
       "      <td>468.97</td>\n",
       "      <td>3400.0</td>\n",
       "      <td>0.0</td>\n",
       "      <td>02/01/2018 18:24:00</td>\n",
       "      <td>1</td>\n",
       "      <td>1799.99</td>\n",
       "      <td>Not cancelled</td>\n",
       "      <td>External Credit</td>\n",
       "      <td>150.0</td>\n",
       "      <td>Tienda A</td>\n",
       "      <td>pos</td>\n",
       "      <td>MARTIN</td>\n",
       "      <td>Martes</td>\n",
       "      <td>Entre Semana</td>\n",
       "      <td>18</td>\n",
       "      <td>Enero</td>\n",
       "      <td>True</td>\n",
       "    </tr>\n",
       "    <tr>\n",
       "      <th>35</th>\n",
       "      <td>MX29-1689</td>\n",
       "      <td>paid</td>\n",
       "      <td>fulfilled</td>\n",
       "      <td>227.58</td>\n",
       "      <td>1650.0</td>\n",
       "      <td>150.0</td>\n",
       "      <td>03/01/2018 18:13:00</td>\n",
       "      <td>1</td>\n",
       "      <td>1799.99</td>\n",
       "      <td>Not cancelled</td>\n",
       "      <td>External Credit</td>\n",
       "      <td>0.0</td>\n",
       "      <td>Tienda A</td>\n",
       "      <td>pos</td>\n",
       "      <td>STANLEY</td>\n",
       "      <td>Miércoles</td>\n",
       "      <td>Entre Semana</td>\n",
       "      <td>18</td>\n",
       "      <td>Enero</td>\n",
       "      <td>True</td>\n",
       "    </tr>\n",
       "    <tr>\n",
       "      <th>36</th>\n",
       "      <td>MX29-1690</td>\n",
       "      <td>paid</td>\n",
       "      <td>fulfilled</td>\n",
       "      <td>248.28</td>\n",
       "      <td>1800.0</td>\n",
       "      <td>0.0</td>\n",
       "      <td>03/01/2018 18:24:00</td>\n",
       "      <td>1</td>\n",
       "      <td>1799.99</td>\n",
       "      <td>Not cancelled</td>\n",
       "      <td>External Credit</td>\n",
       "      <td>0.0</td>\n",
       "      <td>Tienda A</td>\n",
       "      <td>pos</td>\n",
       "      <td>HAWKING</td>\n",
       "      <td>Miércoles</td>\n",
       "      <td>Entre Semana</td>\n",
       "      <td>18</td>\n",
       "      <td>Enero</td>\n",
       "      <td>True</td>\n",
       "    </tr>\n",
       "    <tr>\n",
       "      <th>39</th>\n",
       "      <td>MX29-1691</td>\n",
       "      <td>paid</td>\n",
       "      <td>fulfilled</td>\n",
       "      <td>496.55</td>\n",
       "      <td>3600.0</td>\n",
       "      <td>150.0</td>\n",
       "      <td>03/01/2018 19:03:00</td>\n",
       "      <td>1</td>\n",
       "      <td>1799.99</td>\n",
       "      <td>Not cancelled</td>\n",
       "      <td>External Credit</td>\n",
       "      <td>0.0</td>\n",
       "      <td>Tienda A</td>\n",
       "      <td>pos</td>\n",
       "      <td>MOLEMAN</td>\n",
       "      <td>Miércoles</td>\n",
       "      <td>Entre Semana</td>\n",
       "      <td>19</td>\n",
       "      <td>Enero</td>\n",
       "      <td>True</td>\n",
       "    </tr>\n",
       "    <tr>\n",
       "      <th>41</th>\n",
       "      <td>MX29-1692</td>\n",
       "      <td>paid</td>\n",
       "      <td>fulfilled</td>\n",
       "      <td>248.28</td>\n",
       "      <td>1800.0</td>\n",
       "      <td>0.0</td>\n",
       "      <td>03/01/2018 19:10:00</td>\n",
       "      <td>1</td>\n",
       "      <td>1799.99</td>\n",
       "      <td>Not cancelled</td>\n",
       "      <td>Cash</td>\n",
       "      <td>0.0</td>\n",
       "      <td>Tienda A</td>\n",
       "      <td>pos</td>\n",
       "      <td>SEYMOUR</td>\n",
       "      <td>Miércoles</td>\n",
       "      <td>Entre Semana</td>\n",
       "      <td>19</td>\n",
       "      <td>Enero</td>\n",
       "      <td>True</td>\n",
       "    </tr>\n",
       "    <tr>\n",
       "      <th>...</th>\n",
       "      <td>...</td>\n",
       "      <td>...</td>\n",
       "      <td>...</td>\n",
       "      <td>...</td>\n",
       "      <td>...</td>\n",
       "      <td>...</td>\n",
       "      <td>...</td>\n",
       "      <td>...</td>\n",
       "      <td>...</td>\n",
       "      <td>...</td>\n",
       "      <td>...</td>\n",
       "      <td>...</td>\n",
       "      <td>...</td>\n",
       "      <td>...</td>\n",
       "      <td>...</td>\n",
       "      <td>...</td>\n",
       "      <td>...</td>\n",
       "      <td>...</td>\n",
       "      <td>...</td>\n",
       "      <td>...</td>\n",
       "    </tr>\n",
       "    <tr>\n",
       "      <th>18754</th>\n",
       "      <td>MX42-1329</td>\n",
       "      <td>paid</td>\n",
       "      <td>fulfilled</td>\n",
       "      <td>248.28</td>\n",
       "      <td>1800.0</td>\n",
       "      <td>0.0</td>\n",
       "      <td>31/03/2018 18:35:00</td>\n",
       "      <td>1</td>\n",
       "      <td>1799.99</td>\n",
       "      <td>Not cancelled</td>\n",
       "      <td>External Credit</td>\n",
       "      <td>0.0</td>\n",
       "      <td>Tienda A</td>\n",
       "      <td>pos</td>\n",
       "      <td>ALDOUS</td>\n",
       "      <td>Sábado</td>\n",
       "      <td>Fin de Semana</td>\n",
       "      <td>18</td>\n",
       "      <td>Marzo</td>\n",
       "      <td>True</td>\n",
       "    </tr>\n",
       "    <tr>\n",
       "      <th>18756</th>\n",
       "      <td>MX42-1330</td>\n",
       "      <td>paid</td>\n",
       "      <td>fulfilled</td>\n",
       "      <td>0.00</td>\n",
       "      <td>2500.0</td>\n",
       "      <td>0.0</td>\n",
       "      <td>31/03/2018 18:56:00</td>\n",
       "      <td>1</td>\n",
       "      <td>2500.00</td>\n",
       "      <td>Not cancelled</td>\n",
       "      <td>External Credit</td>\n",
       "      <td>0.0</td>\n",
       "      <td>Tienda A</td>\n",
       "      <td>pos</td>\n",
       "      <td>Tarjeta de Regalo Buena Onda Virtual</td>\n",
       "      <td>Sábado</td>\n",
       "      <td>Fin de Semana</td>\n",
       "      <td>18</td>\n",
       "      <td>Marzo</td>\n",
       "      <td>True</td>\n",
       "    </tr>\n",
       "    <tr>\n",
       "      <th>18758</th>\n",
       "      <td>MX42-1331</td>\n",
       "      <td>paid</td>\n",
       "      <td>unfulfilled</td>\n",
       "      <td>248.28</td>\n",
       "      <td>1800.0</td>\n",
       "      <td>0.0</td>\n",
       "      <td>31/03/2018 18:58:00</td>\n",
       "      <td>1</td>\n",
       "      <td>1799.99</td>\n",
       "      <td>3/4/2018</td>\n",
       "      <td>External Credit</td>\n",
       "      <td>0.0</td>\n",
       "      <td>Tienda A</td>\n",
       "      <td>pos</td>\n",
       "      <td>WOODY</td>\n",
       "      <td>Sábado</td>\n",
       "      <td>Fin de Semana</td>\n",
       "      <td>18</td>\n",
       "      <td>Marzo</td>\n",
       "      <td>True</td>\n",
       "    </tr>\n",
       "    <tr>\n",
       "      <th>18760</th>\n",
       "      <td>MX42-1332</td>\n",
       "      <td>paid</td>\n",
       "      <td>fulfilled</td>\n",
       "      <td>227.58</td>\n",
       "      <td>1650.0</td>\n",
       "      <td>150.0</td>\n",
       "      <td>31/03/2018 19:02:00</td>\n",
       "      <td>1</td>\n",
       "      <td>1799.99</td>\n",
       "      <td>Not cancelled</td>\n",
       "      <td>Cash</td>\n",
       "      <td>0.0</td>\n",
       "      <td>Tienda A</td>\n",
       "      <td>pos</td>\n",
       "      <td>TRUMAN</td>\n",
       "      <td>Sábado</td>\n",
       "      <td>Fin de Semana</td>\n",
       "      <td>19</td>\n",
       "      <td>Marzo</td>\n",
       "      <td>True</td>\n",
       "    </tr>\n",
       "    <tr>\n",
       "      <th>18761</th>\n",
       "      <td>MX42-1333</td>\n",
       "      <td>paid</td>\n",
       "      <td>fulfilled</td>\n",
       "      <td>248.28</td>\n",
       "      <td>1800.0</td>\n",
       "      <td>0.0</td>\n",
       "      <td>31/03/2018 19:36:00</td>\n",
       "      <td>1</td>\n",
       "      <td>0.01</td>\n",
       "      <td>Not cancelled</td>\n",
       "      <td>External Credit</td>\n",
       "      <td>0.0</td>\n",
       "      <td>Tienda A</td>\n",
       "      <td>pos</td>\n",
       "      <td>Micas</td>\n",
       "      <td>Sábado</td>\n",
       "      <td>Fin de Semana</td>\n",
       "      <td>19</td>\n",
       "      <td>Marzo</td>\n",
       "      <td>True</td>\n",
       "    </tr>\n",
       "  </tbody>\n",
       "</table>\n",
       "<p>2063 rows × 20 columns</p>\n",
       "</div>"
      ],
      "text/plain": [
       "            Name    Financial Status Fulfillment Status   Taxes   Total  \\\n",
       "0      MX29-1673  partially_refunded          fulfilled  468.97  3400.0   \n",
       "35     MX29-1689                paid          fulfilled  227.58  1650.0   \n",
       "36     MX29-1690                paid          fulfilled  248.28  1800.0   \n",
       "39     MX29-1691                paid          fulfilled  496.55  3600.0   \n",
       "41     MX29-1692                paid          fulfilled  248.28  1800.0   \n",
       "...          ...                 ...                ...     ...     ...   \n",
       "18754  MX42-1329                paid          fulfilled  248.28  1800.0   \n",
       "18756  MX42-1330                paid          fulfilled    0.00  2500.0   \n",
       "18758  MX42-1331                paid        unfulfilled  248.28  1800.0   \n",
       "18760  MX42-1332                paid          fulfilled  227.58  1650.0   \n",
       "18761  MX42-1333                paid          fulfilled  248.28  1800.0   \n",
       "\n",
       "       Discount Amount     Created_at (UTC)  Lineitem quantity  \\\n",
       "0                  0.0  02/01/2018 18:24:00                  1   \n",
       "35               150.0  03/01/2018 18:13:00                  1   \n",
       "36                 0.0  03/01/2018 18:24:00                  1   \n",
       "39               150.0  03/01/2018 19:03:00                  1   \n",
       "41                 0.0  03/01/2018 19:10:00                  1   \n",
       "...                ...                  ...                ...   \n",
       "18754              0.0  31/03/2018 18:35:00                  1   \n",
       "18756              0.0  31/03/2018 18:56:00                  1   \n",
       "18758              0.0  31/03/2018 18:58:00                  1   \n",
       "18760            150.0  31/03/2018 19:02:00                  1   \n",
       "18761              0.0  31/03/2018 19:36:00                  1   \n",
       "\n",
       "       Lineitem price   Cancelled at   Payment Method  Refunded Amount  \\\n",
       "0             1799.99  Not cancelled  External Credit            150.0   \n",
       "35            1799.99  Not cancelled  External Credit              0.0   \n",
       "36            1799.99  Not cancelled  External Credit              0.0   \n",
       "39            1799.99  Not cancelled  External Credit              0.0   \n",
       "41            1799.99  Not cancelled             Cash              0.0   \n",
       "...               ...            ...              ...              ...   \n",
       "18754         1799.99  Not cancelled  External Credit              0.0   \n",
       "18756         2500.00  Not cancelled  External Credit              0.0   \n",
       "18758         1799.99       3/4/2018  External Credit              0.0   \n",
       "18760         1799.99  Not cancelled             Cash              0.0   \n",
       "18761            0.01  Not cancelled  External Credit              0.0   \n",
       "\n",
       "       Location Source                         Lineitem name        Day  \\\n",
       "0      Tienda A    pos                                MARTIN     Martes   \n",
       "35     Tienda A    pos                               STANLEY  Miércoles   \n",
       "36     Tienda A    pos                               HAWKING  Miércoles   \n",
       "39     Tienda A    pos                               MOLEMAN  Miércoles   \n",
       "41     Tienda A    pos                               SEYMOUR  Miércoles   \n",
       "...         ...    ...                                   ...        ...   \n",
       "18754  Tienda A    pos                                ALDOUS     Sábado   \n",
       "18756  Tienda A    pos  Tarjeta de Regalo Buena Onda Virtual     Sábado   \n",
       "18758  Tienda A    pos                                 WOODY     Sábado   \n",
       "18760  Tienda A    pos                                TRUMAN     Sábado   \n",
       "18761  Tienda A    pos                                 Micas     Sábado   \n",
       "\n",
       "            Day_Type  Hour  Month  Correct_Schedule  \n",
       "0       Entre Semana    18  Enero              True  \n",
       "35      Entre Semana    18  Enero              True  \n",
       "36      Entre Semana    18  Enero              True  \n",
       "39      Entre Semana    19  Enero              True  \n",
       "41      Entre Semana    19  Enero              True  \n",
       "...              ...   ...    ...               ...  \n",
       "18754  Fin de Semana    18  Marzo              True  \n",
       "18756  Fin de Semana    18  Marzo              True  \n",
       "18758  Fin de Semana    18  Marzo              True  \n",
       "18760  Fin de Semana    19  Marzo              True  \n",
       "18761  Fin de Semana    19  Marzo              True  \n",
       "\n",
       "[2063 rows x 20 columns]"
      ]
     },
     "execution_count": 28,
     "metadata": {},
     "output_type": "execute_result"
    }
   ],
   "source": [
    "dataset_final"
   ]
  },
  {
   "cell_type": "markdown",
   "metadata": {},
   "source": [
    "# Sharing with jovian.ai"
   ]
  },
  {
   "cell_type": "code",
   "execution_count": 29,
   "metadata": {},
   "outputs": [
    {
     "name": "stdout",
     "output_type": "stream",
     "text": [
      "Collecting jovian\n",
      "  Downloading jovian-0.2.26-py2.py3-none-any.whl (66 kB)\n",
      "Requirement already satisfied, skipping upgrade: pyyaml in c:\\users\\danie\\anaconda3\\lib\\site-packages (from jovian) (5.3.1)\n",
      "Requirement already satisfied, skipping upgrade: click in c:\\users\\danie\\anaconda3\\lib\\site-packages (from jovian) (7.1.2)\n",
      "Collecting uuid\n",
      "  Downloading uuid-1.30.tar.gz (5.8 kB)\n",
      "Requirement already satisfied, skipping upgrade: requests in c:\\users\\danie\\anaconda3\\lib\\site-packages (from jovian) (2.24.0)\n",
      "Requirement already satisfied, skipping upgrade: certifi>=2017.4.17 in c:\\users\\danie\\anaconda3\\lib\\site-packages (from requests->jovian) (2020.6.20)\n",
      "Requirement already satisfied, skipping upgrade: chardet<4,>=3.0.2 in c:\\users\\danie\\anaconda3\\lib\\site-packages (from requests->jovian) (3.0.4)\n",
      "Requirement already satisfied, skipping upgrade: idna<3,>=2.5 in c:\\users\\danie\\anaconda3\\lib\\site-packages (from requests->jovian) (2.10)\n",
      "Requirement already satisfied, skipping upgrade: urllib3!=1.25.0,!=1.25.1,<1.26,>=1.21.1 in c:\\users\\danie\\anaconda3\\lib\\site-packages (from requests->jovian) (1.25.9)\n",
      "Building wheels for collected packages: uuid\n",
      "  Building wheel for uuid (setup.py): started\n",
      "  Building wheel for uuid (setup.py): finished with status 'done'\n",
      "  Created wheel for uuid: filename=uuid-1.30-py3-none-any.whl size=6507 sha256=9e25e454c528e82229c687b86b1f28c138028c6f6dac409db21e09a56dbdb032\n",
      "  Stored in directory: c:\\users\\danie\\appdata\\local\\pip\\cache\\wheels\\1b\\6c\\cb\\f9aae2bc97333c3d6e060826c1ee9e44e46306a178e5783505\n",
      "Successfully built uuid\n",
      "Installing collected packages: uuid, jovian\n",
      "Successfully installed jovian-0.2.26 uuid-1.30\n"
     ]
    }
   ],
   "source": [
    "# install\n",
    "!pip install jovian --upgrade"
   ]
  },
  {
   "cell_type": "code",
   "execution_count": 30,
   "metadata": {},
   "outputs": [
    {
     "data": {
      "application/javascript": [
       "if (window.IPython && IPython.notebook.kernel) IPython.notebook.kernel.execute('jovian.utils.jupyter.get_notebook_name_saved = lambda: \"' + IPython.notebook.notebook_name + '\"')"
      ],
      "text/plain": [
       "<IPython.core.display.Javascript object>"
      ]
     },
     "metadata": {},
     "output_type": "display_data"
    }
   ],
   "source": [
    "import jovian"
   ]
  },
  {
   "cell_type": "code",
   "execution_count": 31,
   "metadata": {},
   "outputs": [
    {
     "data": {
      "application/javascript": [
       "window.require && require([\"base/js/namespace\"],function(Jupyter){Jupyter.notebook.save_checkpoint()})"
      ],
      "text/plain": [
       "<IPython.core.display.Javascript object>"
      ]
     },
     "metadata": {},
     "output_type": "display_data"
    },
    {
     "name": "stdout",
     "output_type": "stream",
     "text": [
      "[jovian] Attempting to save notebook..\n",
      "[jovian] Please enter your API key ( from https://jovian.ai/ ):\n",
      "API KEY: ········\n",
      "[jovian] Uploading notebook..\n",
      "[jovian] Capturing environment..\n",
      "[jovian] Committed successfully! https://jovian.ai/dannie-ml/exploratory-data-analysis\n"
     ]
    },
    {
     "data": {
      "text/plain": [
       "'https://jovian.ai/dannie-ml/exploratory-data-analysis'"
      ]
     },
     "execution_count": 31,
     "metadata": {},
     "output_type": "execute_result"
    }
   ],
   "source": [
    "jovian.commit()"
   ]
  },
  {
   "cell_type": "code",
   "execution_count": null,
   "metadata": {},
   "outputs": [],
   "source": []
  }
 ],
 "metadata": {
  "kernelspec": {
   "display_name": "Python 3",
   "language": "python",
   "name": "python3"
  },
  "language_info": {
   "codemirror_mode": {
    "name": "ipython",
    "version": 3
   },
   "file_extension": ".py",
   "mimetype": "text/x-python",
   "name": "python",
   "nbconvert_exporter": "python",
   "pygments_lexer": "ipython3",
   "version": "3.8.3"
  },
  "widgets": {
   "application/vnd.jupyter.widget-state+json": {
    "state": {},
    "version_major": 2,
    "version_minor": 0
   }
  }
 },
 "nbformat": 4,
 "nbformat_minor": 4
}
